{
 "cells": [
  {
   "cell_type": "markdown",
   "metadata": {},
   "source": [
    "# 식별자\n",
    " - 파이썬에서 식별자는 변수, 함스, 모듈, 클래스 등을 식별하는데 사용되는 이름이다."
   ]
  },
  {
   "cell_type": "code",
   "execution_count": 24,
   "metadata": {},
   "outputs": [
    {
     "name": "stdout",
     "output_type": "stream",
     "text": [
      "['False', 'None', 'True', 'and', 'as', 'assert', 'break', 'class', 'continue', 'def', 'del', 'elif', 'else', 'except', 'finally', 'for', 'from', 'global', 'if', 'import', 'in', 'is', 'lambda', 'nonlocal', 'not', 'or', 'pass', 'raise', 'return', 'try', 'while', 'with', 'yield']\n"
     ]
    }
   ],
   "source": [
    "import keyword\n",
    "print(keyword.kwlist)"
   ]
  },
  {
   "cell_type": "code",
   "execution_count": 25,
   "metadata": {},
   "outputs": [
    {
     "data": {
      "text/plain": [
       "'5'"
      ]
     },
     "execution_count": 25,
     "metadata": {},
     "output_type": "execute_result"
    }
   ],
   "source": [
    "str(5)"
   ]
  },
  {
   "cell_type": "code",
   "execution_count": 26,
   "metadata": {},
   "outputs": [
    {
     "ename": "TypeError",
     "evalue": "'str' object is not callable",
     "output_type": "error",
     "traceback": [
      "\u001b[1;31m---------------------------------------------------------------------------\u001b[0m",
      "\u001b[1;31mTypeError\u001b[0m                                 Traceback (most recent call last)",
      "\u001b[1;32m<ipython-input-26-5d0fc6ecb4a8>\u001b[0m in \u001b[0;36m<module>\u001b[1;34m\u001b[0m\n\u001b[0;32m      1\u001b[0m \u001b[1;31m#str() 이미 있는 식별자의 이름으로 변수를 정하면 함수 호출이 안된다.\u001b[0m\u001b[1;33m\u001b[0m\u001b[1;33m\u001b[0m\u001b[1;33m\u001b[0m\u001b[0m\n\u001b[0;32m      2\u001b[0m \u001b[0mstr\u001b[0m \u001b[1;33m=\u001b[0m \u001b[1;34m\"hihi\"\u001b[0m\u001b[1;33m\u001b[0m\u001b[1;33m\u001b[0m\u001b[0m\n\u001b[1;32m----> 3\u001b[1;33m \u001b[0mstr\u001b[0m\u001b[1;33m(\u001b[0m\u001b[1;36m5\u001b[0m\u001b[1;33m)\u001b[0m\u001b[1;33m\u001b[0m\u001b[1;33m\u001b[0m\u001b[0m\n\u001b[0m",
      "\u001b[1;31mTypeError\u001b[0m: 'str' object is not callable"
     ]
    }
   ],
   "source": [
    "#str() 이미 있는 식별자의 이름으로 변수를 정하면 함수 호출이 안된다.\n",
    "str = \"hihi\"\n",
    "str(5)"
   ]
  },
  {
   "cell_type": "code",
   "execution_count": 27,
   "metadata": {},
   "outputs": [],
   "source": [
    "# 이 뒤에 코드들에 영향이 가기 때문에 str변수 삭제\n",
    "del str"
   ]
  },
  {
   "cell_type": "markdown",
   "metadata": {},
   "source": [
    "# 기본 문법\n",
    "## 인코딩 선언\n",
    "인코딩은 선어하지 않더라도 UTF-8 기본 설정\n",
    "만약 인코딩 설정을 하려면 아래와 같이 작성해 주세요."
   ]
  },
  {
   "cell_type": "code",
   "execution_count": 7,
   "metadata": {},
   "outputs": [],
   "source": [
    "# -*- coding: encoding -*-"
   ]
  },
  {
   "cell_type": "markdown",
   "metadata": {},
   "source": [
    "## 주석(comment)\n",
    "- 주석은 #으로 표현합니다.\n",
    "- 여러 줄 주석: docstring 은 \"\"\"로 표현합니다. "
   ]
  },
  {
   "cell_type": "code",
   "execution_count": 8,
   "metadata": {},
   "outputs": [],
   "source": [
    "def mysum(a,b):\n",
    "    \"\"\"\n",
    "     이 것은 덧셈 함수 입니다.\n",
    "     이 줄은 실행되지 않습니다.\n",
    "     다만 docstring인 이유가 있습니다.\n",
    "    \"\"\"\n",
    "    print(a+b)"
   ]
  },
  {
   "cell_type": "code",
   "execution_count": 9,
   "metadata": {},
   "outputs": [
    {
     "name": "stdout",
     "output_type": "stream",
     "text": [
      "3\n"
     ]
    }
   ],
   "source": [
    "mysum(1,2)"
   ]
  },
  {
   "cell_type": "code",
   "execution_count": 10,
   "metadata": {},
   "outputs": [
    {
     "data": {
      "text/plain": [
       "'\\n     이 것은 덧셈 함수 입니다.\\n     이 줄은 실행되지 않습니다.\\n     다만 docstring인 이유가 있습니다.\\n    '"
      ]
     },
     "execution_count": 10,
     "metadata": {},
     "output_type": "execute_result"
    }
   ],
   "source": [
    "mysum.__doc__"
   ]
  },
  {
   "cell_type": "markdown",
   "metadata": {},
   "source": [
    "## 코드 라인\n"
   ]
  },
  {
   "cell_type": "code",
   "execution_count": 11,
   "metadata": {},
   "outputs": [
    {
     "name": "stdout",
     "output_type": "stream",
     "text": [
      "hello\n",
      "hi\n"
     ]
    }
   ],
   "source": [
    "print(\"hello\")\n",
    "print(\"hi\")"
   ]
  },
  {
   "cell_type": "code",
   "execution_count": 12,
   "metadata": {},
   "outputs": [
    {
     "ename": "SyntaxError",
     "evalue": "invalid syntax (<ipython-input-12-065cdd8ef5b1>, line 1)",
     "output_type": "error",
     "traceback": [
      "\u001b[1;36m  File \u001b[1;32m\"<ipython-input-12-065cdd8ef5b1>\"\u001b[1;36m, line \u001b[1;32m1\u001b[0m\n\u001b[1;33m    print(\"hihi\")print(\"hello\")\u001b[0m\n\u001b[1;37m                     ^\u001b[0m\n\u001b[1;31mSyntaxError\u001b[0m\u001b[1;31m:\u001b[0m invalid syntax\n"
     ]
    }
   ],
   "source": [
    "#파이썬에서는 한줄로 여러개의 코드를 한번에 쓸 수 없다.\n",
    "print(\"hihi\")print(\"hello\")"
   ]
  },
  {
   "cell_type": "code",
   "execution_count": 13,
   "metadata": {},
   "outputs": [
    {
     "name": "stdout",
     "output_type": "stream",
     "text": [
      "hihi\n",
      "hello\n"
     ]
    }
   ],
   "source": [
    "# ;를 코드 사이에 넣을 경우 여러 줄도 실행 가능하다.\n",
    "print(\"hihi\"); print(\"hello\")"
   ]
  },
  {
   "cell_type": "code",
   "execution_count": 16,
   "metadata": {},
   "outputs": [
    {
     "name": "stdout",
     "output_type": "stream",
     "text": [
      "0\n"
     ]
    }
   ],
   "source": [
    "# 실행은 되나 사용하지 마세요 - 줄 이상하게\n",
    "a = 0\n",
    "if a==\n",
    "0:\n",
    "    print(\"0\")"
   ]
  },
  {
   "cell_type": "markdown",
   "metadata": {},
   "source": [
    "- [],{},()는 \\없이 여러 줄로 작성 가능"
   ]
  },
  {
   "cell_type": "code",
   "execution_count": 17,
   "metadata": {},
   "outputs": [],
   "source": [
    "# 줄 내림 해도 실행 가능\n",
    "menu = [\"짜장면\",\"짬뽕\",\"탕수육\",\"삼겹살\",\n",
    "       \"짜장면\",\"짬뽕\",\"탕수육\",\"삼겹살\",\n",
    "       \"짜장면\",\"짬뽕\",\"탕수육\",\"삼겹살\"]"
   ]
  },
  {
   "cell_type": "markdown",
   "metadata": {},
   "source": [
    "# 변수\n",
    "\n",
    "- 변수는 =기호를 사용해 할당(assignment)한다.\n",
    "- 변수의 메모리 주소를 확인하기 위해 id()함수를 활용한다.\n",
    "- 변수의 자료형을 확인하기 위해 type()함수를 활용한다."
   ]
  },
  {
   "cell_type": "code",
   "execution_count": 18,
   "metadata": {},
   "outputs": [],
   "source": [
    "a = 123"
   ]
  },
  {
   "cell_type": "code",
   "execution_count": 35,
   "metadata": {},
   "outputs": [
    {
     "name": "stdout",
     "output_type": "stream",
     "text": [
      "1234\n",
      "2802321734032\n",
      "4321\n",
      "2802321733808\n",
      "<class 'int'>\n"
     ]
    }
   ],
   "source": [
    "#id: 변수의 주소\n",
    "x = 1234\n",
    "print(x)\n",
    "print(id(x))\n",
    "\n",
    "x = 4321\n",
    "print(x)\n",
    "print(id(x))\n",
    "#다른 메모리를 참조한다.\n",
    "\n",
    "print(type(x))"
   ]
  },
  {
   "cell_type": "markdown",
   "metadata": {},
   "source": [
    "- 같은 값을 동시에 할당 할 수 있다."
   ]
  },
  {
   "cell_type": "code",
   "execution_count": 37,
   "metadata": {},
   "outputs": [
    {
     "name": "stdout",
     "output_type": "stream",
     "text": [
      "1000 1000\n"
     ]
    }
   ],
   "source": [
    "a = b = 1000\n",
    "print(a,b)"
   ]
  },
  {
   "cell_type": "markdown",
   "metadata": {},
   "source": [
    "- 다른 값을 동시에 할당 할 수 있다."
   ]
  },
  {
   "cell_type": "code",
   "execution_count": 40,
   "metadata": {},
   "outputs": [
    {
     "name": "stdout",
     "output_type": "stream",
     "text": [
      "1000 2000\n"
     ]
    }
   ],
   "source": [
    "a,b = 1000,2000\n",
    "print(a,b)"
   ]
  },
  {
   "cell_type": "markdown",
   "metadata": {},
   "source": [
    "- 할당시 개수를 맞춰줘야 한다."
   ]
  },
  {
   "cell_type": "code",
   "execution_count": 41,
   "metadata": {},
   "outputs": [
    {
     "ename": "TypeError",
     "evalue": "'int' object is not iterable",
     "output_type": "error",
     "traceback": [
      "\u001b[1;31m---------------------------------------------------------------------------\u001b[0m",
      "\u001b[1;31mTypeError\u001b[0m                                 Traceback (most recent call last)",
      "\u001b[1;32m<ipython-input-41-8a280a05019e>\u001b[0m in \u001b[0;36m<module>\u001b[1;34m\u001b[0m\n\u001b[1;32m----> 1\u001b[1;33m \u001b[0ma\u001b[0m\u001b[1;33m,\u001b[0m\u001b[0mb\u001b[0m \u001b[1;33m=\u001b[0m \u001b[1;36m20\u001b[0m\u001b[1;33m\u001b[0m\u001b[1;33m\u001b[0m\u001b[0m\n\u001b[0m",
      "\u001b[1;31mTypeError\u001b[0m: 'int' object is not iterable"
     ]
    }
   ],
   "source": [
    "a,b = 20"
   ]
  },
  {
   "cell_type": "code",
   "execution_count": 42,
   "metadata": {},
   "outputs": [
    {
     "ename": "ValueError",
     "evalue": "too many values to unpack (expected 2)",
     "output_type": "error",
     "traceback": [
      "\u001b[1;31m---------------------------------------------------------------------------\u001b[0m",
      "\u001b[1;31mValueError\u001b[0m                                Traceback (most recent call last)",
      "\u001b[1;32m<ipython-input-42-402193b14bdc>\u001b[0m in \u001b[0;36m<module>\u001b[1;34m\u001b[0m\n\u001b[1;32m----> 1\u001b[1;33m \u001b[0ma\u001b[0m\u001b[1;33m,\u001b[0m\u001b[0mb\u001b[0m \u001b[1;33m=\u001b[0m \u001b[1;36m1\u001b[0m\u001b[1;33m,\u001b[0m\u001b[1;36m2\u001b[0m\u001b[1;33m,\u001b[0m\u001b[1;36m3\u001b[0m\u001b[1;33m\u001b[0m\u001b[1;33m\u001b[0m\u001b[0m\n\u001b[0m",
      "\u001b[1;31mValueError\u001b[0m: too many values to unpack (expected 2)"
     ]
    }
   ],
   "source": [
    "a,b = 1,2,3"
   ]
  },
  {
   "cell_type": "code",
   "execution_count": 44,
   "metadata": {},
   "outputs": [
    {
     "name": "stdout",
     "output_type": "stream",
     "text": [
      "1 2\n",
      "2 1\n"
     ]
    }
   ],
   "source": [
    "#파이썬에서는 쉽게 변수 값을 swap할 수 있다.\n",
    "a = 1\n",
    "b = 2\n",
    "print(1,2)\n",
    "\n",
    "a,b = b,a\n",
    "print(a,b)"
   ]
  },
  {
   "cell_type": "markdown",
   "metadata": {},
   "source": [
    "# 자료형\n",
    "\n",
    "## 수치형\n",
    "### int(정수)\n",
    "모든 정수는 int로 표현된다."
   ]
  },
  {
   "cell_type": "code",
   "execution_count": 45,
   "metadata": {},
   "outputs": [
    {
     "name": "stdout",
     "output_type": "stream",
     "text": [
      "<class 'int'>\n"
     ]
    }
   ],
   "source": [
    "a = 3\n",
    "print(type(a))"
   ]
  },
  {
   "cell_type": "code",
   "execution_count": 47,
   "metadata": {},
   "outputs": [
    {
     "name": "stdout",
     "output_type": "stream",
     "text": [
      "18446744073709551616\n",
      "<class 'int'>\n"
     ]
    }
   ],
   "source": [
    "# a = 2의 64승 \n",
    "a = 2**64\n",
    "print(a)\n",
    "print(type(a))"
   ]
  },
  {
   "cell_type": "code",
   "execution_count": 50,
   "metadata": {},
   "outputs": [
    {
     "name": "stdout",
     "output_type": "stream",
     "text": [
      "85070591730234615847396907784232501249\n"
     ]
    }
   ],
   "source": [
    "#파이썬에서는 오버플로우가 발생하지 않는다. 큰 숫자도 표현 가능\n",
    "#16진수 2의 63승 − 1\n",
    "import sys\n",
    "max_int = sys.maxsize\n",
    "print(max_int*max_int)"
   ]
  },
  {
   "cell_type": "code",
   "execution_count": 52,
   "metadata": {},
   "outputs": [
    {
     "name": "stdout",
     "output_type": "stream",
     "text": [
      "\n",
      "2진수 : 2\n",
      "8진수 : 8\n",
      "10진수 : 10\n",
      "16진수 : 16\n",
      "\n"
     ]
    }
   ],
   "source": [
    "binary_num = 0b10\n",
    "octal_num = 0o10\n",
    "decimal_num = 10\n",
    "hexadecimal = 0x10\n",
    "\n",
    "print(f\"\"\"\n",
    "2진수 : {binary_num}\n",
    "8진수 : {octal_num}\n",
    "10진수 : {decimal_num}\n",
    "16진수 : {hexadecimal}\n",
    "\"\"\")"
   ]
  },
  {
   "cell_type": "markdown",
   "metadata": {},
   "source": [
    "### float(실수, 부동소수점)\n",
    "실수는 float으로 표현된다.\n",
    "실수는 컴퓨터가 표현하는 과정에서 부동소수점을 사용하고, 항상 같은 값으로 일치 안됨\n",
    "이는 컴퓨터가 2진수를 통해 숫자를 표현하는 과정에서  오류가 발생함.\n"
   ]
  },
  {
   "cell_type": "code",
   "execution_count": 53,
   "metadata": {},
   "outputs": [
    {
     "name": "stdout",
     "output_type": "stream",
     "text": [
      "<class 'float'>\n"
     ]
    }
   ],
   "source": [
    "a = 3.14\n",
    "print(type(a))"
   ]
  },
  {
   "cell_type": "code",
   "execution_count": 55,
   "metadata": {},
   "outputs": [
    {
     "name": "stdout",
     "output_type": "stream",
     "text": [
      "0.12\n"
     ]
    }
   ],
   "source": [
    "b = 12e-2\n",
    "print(b)"
   ]
  },
  {
   "cell_type": "markdown",
   "metadata": {},
   "source": [
    "- 실수의 경우 실제로 값을 처리할 때 주의해야한다."
   ]
  },
  {
   "cell_type": "code",
   "execution_count": 56,
   "metadata": {},
   "outputs": [
    {
     "data": {
      "text/plain": [
       "6.2"
      ]
     },
     "execution_count": 56,
     "metadata": {},
     "output_type": "execute_result"
    }
   ],
   "source": [
    "3.5 + 2.7"
   ]
  },
  {
   "cell_type": "code",
   "execution_count": 57,
   "metadata": {},
   "outputs": [
    {
     "data": {
      "text/plain": [
       "0.3599999999999999"
      ]
     },
     "execution_count": 57,
     "metadata": {},
     "output_type": "execute_result"
    }
   ],
   "source": [
    "3.5 - 3.14"
   ]
  },
  {
   "cell_type": "code",
   "execution_count": 58,
   "metadata": {},
   "outputs": [
    {
     "data": {
      "text/plain": [
       "0.36"
      ]
     },
     "execution_count": 58,
     "metadata": {},
     "output_type": "execute_result"
    }
   ],
   "source": [
    "# 정확한 소수 사용 하고 싶을 때\n",
    "round(3.5-3.14, 2)"
   ]
  },
  {
   "cell_type": "code",
   "execution_count": 59,
   "metadata": {},
   "outputs": [
    {
     "data": {
      "text/plain": [
       "False"
      ]
     },
     "execution_count": 59,
     "metadata": {},
     "output_type": "execute_result"
    }
   ],
   "source": [
    "# ==: 같니\n",
    "0.1 * 3 == 0.3"
   ]
  },
  {
   "cell_type": "code",
   "execution_count": 60,
   "metadata": {},
   "outputs": [
    {
     "name": "stdout",
     "output_type": "stream",
     "text": [
      "0.30000000000000004\n"
     ]
    }
   ],
   "source": [
    "print(0.1 * 3)"
   ]
  },
  {
   "cell_type": "code",
   "execution_count": 63,
   "metadata": {},
   "outputs": [
    {
     "data": {
      "text/plain": [
       "True"
      ]
     },
     "execution_count": 63,
     "metadata": {},
     "output_type": "execute_result"
    }
   ],
   "source": [
    "# 처리방법 1 - 절대값을 비교\n",
    "a = 0.1 * 3\n",
    "b = 0.3\n",
    "\n",
    "abs(a-b) <=1e-10"
   ]
  },
  {
   "cell_type": "code",
   "execution_count": 64,
   "metadata": {},
   "outputs": [
    {
     "data": {
      "text/plain": [
       "True"
      ]
     },
     "execution_count": 64,
     "metadata": {},
     "output_type": "execute_result"
    }
   ],
   "source": [
    "# 처리방법 2 - 절대값 비교를 내장된 함수로 비교\n",
    "import sys\n",
    "abs(a-b) <= sys.float_info.epsilon"
   ]
  },
  {
   "cell_type": "code",
   "execution_count": 66,
   "metadata": {},
   "outputs": [
    {
     "data": {
      "text/plain": [
       "True"
      ]
     },
     "execution_count": 66,
     "metadata": {},
     "output_type": "execute_result"
    }
   ],
   "source": [
    "# 처리방법 3 - math 모듈을 활용해서 비교\n",
    "import math\n",
    "math.isclose(a,b)"
   ]
  },
  {
   "cell_type": "markdown",
   "metadata": {},
   "source": [
    "### 복소수(complex)\n"
   ]
  },
  {
   "cell_type": "code",
   "execution_count": 67,
   "metadata": {},
   "outputs": [
    {
     "name": "stdout",
     "output_type": "stream",
     "text": [
      "<class 'complex'>\n"
     ]
    }
   ],
   "source": [
    "a = 3 - 4j\n",
    "print(type(a))"
   ]
  },
  {
   "cell_type": "code",
   "execution_count": 69,
   "metadata": {},
   "outputs": [
    {
     "name": "stdout",
     "output_type": "stream",
     "text": [
      "-4.0\n",
      "3.0\n",
      "(3+4j)\n"
     ]
    }
   ],
   "source": [
    "#허수부 반환 \n",
    "print(a.imag)\n",
    "#실수부 반환\n",
    "print(a.real)\n",
    "#컬레 복소수 반환\n",
    "print(a.conjugate())"
   ]
  },
  {
   "cell_type": "markdown",
   "metadata": {},
   "source": [
    "### boolean\n",
    "파이썬에서는 True 와 False 로 이루어진 Bool 타입이 있다.\n",
    "(주의 T와 F는 대문자.)\n",
    "비교/논리 연산을 위해 사용됩니다.\n"
   ]
  },
  {
   "cell_type": "code",
   "execution_count": 70,
   "metadata": {},
   "outputs": [
    {
     "name": "stdout",
     "output_type": "stream",
     "text": [
      "<class 'bool'>\n",
      "<class 'bool'>\n"
     ]
    }
   ],
   "source": [
    "print(type(True))\n",
    "print(type(False))"
   ]
  },
  {
   "cell_type": "markdown",
   "metadata": {},
   "source": [
    "- 몇 가지 데이터를 자동으로 형변환 시킨다. 나중에 추가적 설명 있을 예정\n",
    "- 다음은 False 반환됩니다.\n",
    "    0 , 0.0 , () , {} , [] ,'', None"
   ]
  },
  {
   "cell_type": "code",
   "execution_count": 71,
   "metadata": {},
   "outputs": [
    {
     "data": {
      "text/plain": [
       "False"
      ]
     },
     "execution_count": 71,
     "metadata": {},
     "output_type": "execute_result"
    }
   ],
   "source": [
    "bool(0)"
   ]
  },
  {
   "cell_type": "code",
   "execution_count": 72,
   "metadata": {},
   "outputs": [
    {
     "data": {
      "text/plain": [
       "True"
      ]
     },
     "execution_count": 72,
     "metadata": {},
     "output_type": "execute_result"
    }
   ],
   "source": [
    "bool(123)"
   ]
  },
  {
   "cell_type": "code",
   "execution_count": 73,
   "metadata": {},
   "outputs": [
    {
     "data": {
      "text/plain": [
       "False"
      ]
     },
     "execution_count": 73,
     "metadata": {},
     "output_type": "execute_result"
    }
   ],
   "source": [
    "bool(None)"
   ]
  },
  {
   "cell_type": "markdown",
   "metadata": {},
   "source": [
    "### None"
   ]
  },
  {
   "cell_type": "code",
   "execution_count": 74,
   "metadata": {},
   "outputs": [
    {
     "data": {
      "text/plain": [
       "NoneType"
      ]
     },
     "execution_count": 74,
     "metadata": {},
     "output_type": "execute_result"
    }
   ],
   "source": [
    "type(None)"
   ]
  },
  {
   "cell_type": "code",
   "execution_count": 75,
   "metadata": {},
   "outputs": [
    {
     "name": "stdout",
     "output_type": "stream",
     "text": [
      "None\n"
     ]
    }
   ],
   "source": [
    "a = None\n",
    "print(a)"
   ]
  },
  {
   "cell_type": "markdown",
   "metadata": {},
   "source": [
    " ## 문자형\n",
    " ##문자형은 ''(single quotes) \"\"(double quotes)를 사용해 표현\n",
    " 문자열을 묶을 때 하나의 문장 부호 선택\n",
    " PEP-8 가이드에 나와있다.\n",
    " "
   ]
  },
  {
   "cell_type": "code",
   "execution_count": 76,
   "metadata": {},
   "outputs": [
    {
     "name": "stdout",
     "output_type": "stream",
     "text": [
      "Hi Eunsol\n",
      "<class 'str'>\n"
     ]
    }
   ],
   "source": [
    "greeting = \"Hi\"\n",
    "name =  'Eunsol'\n",
    "print(greeting,name)\n",
    "print(type(greeting))\n"
   ]
  },
  {
   "cell_type": "markdown",
   "metadata": {},
   "source": [
    "- 문자열 안에 문장부호 ('',\"\")가 쓰일 경우 이스케이프 문자 사용."
   ]
  },
  {
   "cell_type": "code",
   "execution_count": 78,
   "metadata": {},
   "outputs": [
    {
     "name": "stdout",
     "output_type": "stream",
     "text": [
      "철수가 말했다\"안녕?\"\n"
     ]
    }
   ],
   "source": [
    "# 방법 1\n",
    "print('철수가 말했다\"안녕?\"')"
   ]
  },
  {
   "cell_type": "code",
   "execution_count": 80,
   "metadata": {},
   "outputs": [
    {
     "name": "stdout",
     "output_type": "stream",
     "text": [
      "철수가 말했다 \"안녕?\" \n"
     ]
    }
   ],
   "source": [
    "# 방법 2\n",
    "print(\"철수가 말했다 \\\"안녕?\\\" \")"
   ]
  },
  {
   "cell_type": "markdown",
   "metadata": {},
   "source": [
    "- 여러 줄 한번에 표현 "
   ]
  },
  {
   "cell_type": "code",
   "execution_count": 81,
   "metadata": {},
   "outputs": [
    {
     "name": "stdout",
     "output_type": "stream",
     "text": [
      "\n",
      "개행 문자 없이 그냥 엔터치면\n",
      "한 줄 내려간다.\n",
      "\n"
     ]
    }
   ],
   "source": [
    "print(\"\"\"\n",
    "개행 문자 없이 그냥 엔터치면\n",
    "한 줄 내려간다.\n",
    "\"\"\")"
   ]
  },
  {
   "cell_type": "code",
   "execution_count": 82,
   "metadata": {},
   "outputs": [
    {
     "name": "stdout",
     "output_type": "stream",
     "text": [
      "\n",
      "개행 문자 없이 엔터치면\n",
      "한 줄 내려간다.\n",
      "파이썬 너무 재밌다!!!\n",
      "\n"
     ]
    }
   ],
   "source": [
    "a = \"파이썬 너무 재밌다!!!\"\n",
    "print(f\"\"\"\n",
    "개행 문자 없이 엔터치면\n",
    "한 줄 내려간다.\n",
    "{a}\n",
    "\"\"\")"
   ]
  },
  {
   "cell_type": "markdown",
   "metadata": {},
   "source": [
    "- 이스케이프 문자열\n",
    "문자열 활용시, 특수문자를 조작할 때 사용.\n",
    "\\를 활용하여 구분한다.\n"
   ]
  },
  {
   "cell_type": "code",
   "execution_count": 85,
   "metadata": {},
   "outputs": [
    {
     "name": "stdout",
     "output_type": "stream",
     "text": [
      "이 다음은 엔터 \n",
      "안녕하세요.\n"
     ]
    }
   ],
   "source": [
    "print(\"이 다음은 엔터 \\n안녕하세요.\")"
   ]
  },
  {
   "cell_type": "code",
   "execution_count": 86,
   "metadata": {},
   "outputs": [
    {
     "name": "stdout",
     "output_type": "stream",
     "text": [
      "이 다음은 탭\t안녕하세요\n"
     ]
    }
   ],
   "source": [
    "print(\"이 다음은 탭\\t안녕하세요\")"
   ]
  },
  {
   "cell_type": "code",
   "execution_count": 88,
   "metadata": {},
   "outputs": [
    {
     "name": "stdout",
     "output_type": "stream",
     "text": [
      "내용을 이어서 쓰면\t이어서 나오나?\n"
     ]
    }
   ],
   "source": [
    "# 줄바꿈이 실행되지 않는다.\n",
    "print(\"내용을 이어서 쓰면\",end='\\t')\n",
    "print(\"이어서 나오나?\")\n"
   ]
  },
  {
   "cell_type": "code",
   "execution_count": 89,
   "metadata": {},
   "outputs": [
    {
     "name": "stdout",
     "output_type": "stream",
     "text": [
      "개행문자 말고도 쓸 수 있나요?와 신기하다!"
     ]
    }
   ],
   "source": [
    "# 개행문자가 아니더라도 사용 가능하다.\n",
    "print(\"개행문자 말고도 쓸 수 있나요\", end=\"?\")\n",
    "print(\"와 신기하다\",end=\"!\")"
   ]
  },
  {
   "cell_type": "markdown",
   "metadata": {},
   "source": [
    "\"파일은 c:\\Windows\\Users\\내문서에 저장이 되어있습니다.\"\n",
    "나는 생각했다. 'cd를 써서 gitbash로 들어가봐야지'\n",
    "\"\"\" \"\"\"사용 금지. print 는 한 번만 사용."
   ]
  },
  {
   "cell_type": "code",
   "execution_count": 106,
   "metadata": {},
   "outputs": [
    {
     "ename": "SyntaxError",
     "evalue": "(unicode error) 'unicodeescape' codec can't decode bytes in position 41-42: truncated \\UXXXXXXXX escape (<ipython-input-106-d7b61cf9a6a9>, line 1)",
     "output_type": "error",
     "traceback": [
      "\u001b[1;36m  File \u001b[1;32m\"<ipython-input-106-d7b61cf9a6a9>\"\u001b[1;36m, line \u001b[1;32m1\u001b[0m\n\u001b[1;33m    print(\"파일은 c:\\Windows\\Users\\내문서에 저장이 되어있습니다.\")\u001b[0m\n\u001b[1;37m         ^\u001b[0m\n\u001b[1;31mSyntaxError\u001b[0m\u001b[1;31m:\u001b[0m (unicode error) 'unicodeescape' codec can't decode bytes in position 41-42: truncated \\UXXXXXXXX escape\n"
     ]
    }
   ],
   "source": [
    "print(\"파일은 c:\\Windows\\Users\\내문서에 저장이 되어있습니다.\")"
   ]
  },
  {
   "cell_type": "markdown",
   "metadata": {},
   "source": [
    "### string interpolation\n",
    "1. %-formatting\n",
    "2. str.format()\n",
    "3.f-string:3.6이상에서만 지원 합니다."
   ]
  },
  {
   "cell_type": "code",
   "execution_count": 96,
   "metadata": {},
   "outputs": [],
   "source": [
    "name = \"eunsol\""
   ]
  },
  {
   "cell_type": "code",
   "execution_count": 97,
   "metadata": {},
   "outputs": [
    {
     "data": {
      "text/plain": [
       "'hello,eunsol'"
      ]
     },
     "execution_count": 97,
     "metadata": {},
     "output_type": "execute_result"
    }
   ],
   "source": [
    "#첫 번째 방법\n",
    "\"hello,%s\"%name"
   ]
  },
  {
   "cell_type": "code",
   "execution_count": 98,
   "metadata": {},
   "outputs": [
    {
     "data": {
      "text/plain": [
       "'hello,eunsol'"
      ]
     },
     "execution_count": 98,
     "metadata": {},
     "output_type": "execute_result"
    }
   ],
   "source": [
    "#두 번째 방법\n",
    "\"hello,{}\".format(name)"
   ]
  },
  {
   "cell_type": "code",
   "execution_count": 99,
   "metadata": {},
   "outputs": [
    {
     "data": {
      "text/plain": [
       "'hello,eunsol'"
      ]
     },
     "execution_count": 99,
     "metadata": {},
     "output_type": "execute_result"
    }
   ],
   "source": [
    "f\"hello,{name}\""
   ]
  },
  {
   "cell_type": "markdown",
   "metadata": {},
   "source": [
    "- f-string에서는 형식을 지정할 수 있다."
   ]
  },
  {
   "cell_type": "code",
   "execution_count": 102,
   "metadata": {},
   "outputs": [
    {
     "name": "stdout",
     "output_type": "stream",
     "text": [
      "2019-01-02 16:31:24.247929\n"
     ]
    }
   ],
   "source": [
    "import datetime\n",
    "today = datetime.datetime.now()\n",
    "print(today)"
   ]
  },
  {
   "cell_type": "code",
   "execution_count": 103,
   "metadata": {},
   "outputs": [
    {
     "data": {
      "text/plain": [
       "'오늘은 01월 02일 입니다.'"
      ]
     },
     "execution_count": 103,
     "metadata": {},
     "output_type": "execute_result"
    }
   ],
   "source": [
    "f\"오늘은 {today:%m}월 {today:%d}일 입니다.\""
   ]
  },
  {
   "cell_type": "code",
   "execution_count": 105,
   "metadata": {},
   "outputs": [
    {
     "data": {
      "text/plain": [
       "'한 변의 길이가 4인 정사각형의 넓이는 16입니다.'"
      ]
     },
     "execution_count": 105,
     "metadata": {},
     "output_type": "execute_result"
    }
   ],
   "source": [
    "f\"한 변의 길이가 4인 정사각형의 넓이는 {4*4}입니다.\""
   ]
  },
  {
   "cell_type": "markdown",
   "metadata": {},
   "source": [
    "# 연산자\n",
    "\n",
    "## 산술연산자\n",
    "- = - / * : 사칙 연산\n",
    "- // : 몫\n",
    "- % : 나머지\n",
    "- ** : 거듭제곱"
   ]
  },
  {
   "cell_type": "code",
   "execution_count": 110,
   "metadata": {},
   "outputs": [
    {
     "data": {
      "text/plain": [
       "2.5"
      ]
     },
     "execution_count": 110,
     "metadata": {},
     "output_type": "execute_result"
    }
   ],
   "source": [
    "5/2"
   ]
  },
  {
   "cell_type": "code",
   "execution_count": 111,
   "metadata": {},
   "outputs": [
    {
     "data": {
      "text/plain": [
       "2"
      ]
     },
     "execution_count": 111,
     "metadata": {},
     "output_type": "execute_result"
    }
   ],
   "source": [
    "5//2"
   ]
  },
  {
   "cell_type": "code",
   "execution_count": 112,
   "metadata": {},
   "outputs": [
    {
     "data": {
      "text/plain": [
       "1"
      ]
     },
     "execution_count": 112,
     "metadata": {},
     "output_type": "execute_result"
    }
   ],
   "source": [
    "5%2"
   ]
  },
  {
   "cell_type": "code",
   "execution_count": 116,
   "metadata": {},
   "outputs": [
    {
     "name": "stdout",
     "output_type": "stream",
     "text": [
      "5\n",
      "-5\n",
      "-5\n",
      "5\n"
     ]
    }
   ],
   "source": [
    "a = 5\n",
    "print(a)\n",
    "print(-a)\n",
    "\n",
    "b = -5\n",
    "print(b)\n",
    "print(-b)"
   ]
  },
  {
   "cell_type": "markdown",
   "metadata": {},
   "source": [
    "## 비교연산자\n",
    "두 값을 비교하고 결과를  True 혹은 False 로 리턴해준다!\n",
    "- > : 초과\n",
    "- < : 미만\n",
    "- > = : 이상\n",
    "- < = : 이하\n",
    "- == : 같음\n",
    "- != : 같지 않음"
   ]
  },
  {
   "cell_type": "code",
   "execution_count": 117,
   "metadata": {},
   "outputs": [
    {
     "data": {
      "text/plain": [
       "False"
      ]
     },
     "execution_count": 117,
     "metadata": {},
     "output_type": "execute_result"
    }
   ],
   "source": [
    "3>6"
   ]
  },
  {
   "cell_type": "markdown",
   "metadata": {},
   "source": [
    "## 논리연산자\n",
    "- a and b : a,b 모두 True 일 때 True\n",
    "- a or b : a,b 모두 False 일 때 False\n",
    "- not a : False -> True, True -> False"
   ]
  },
  {
   "cell_type": "code",
   "execution_count": 118,
   "metadata": {},
   "outputs": [
    {
     "data": {
      "text/plain": [
       "False"
      ]
     },
     "execution_count": 118,
     "metadata": {},
     "output_type": "execute_result"
    }
   ],
   "source": [
    "True and False"
   ]
  },
  {
   "cell_type": "code",
   "execution_count": 122,
   "metadata": {},
   "outputs": [
    {
     "name": "stdout",
     "output_type": "stream",
     "text": [
      "5\n",
      "0\n",
      "0\n",
      "0\n",
      "3\n",
      "3\n",
      "3\n",
      "0\n"
     ]
    }
   ],
   "source": [
    "#파이썬에서 \n",
    "#and => a가 거짓이면 a를 리턴, 참이면 b를 리턴한다.\n",
    "#or => a가 참이면 a를 리턴하고, 거짓이면 b를 리턴한다.\n",
    "print(3 and 5)\n",
    "print(0 and 3)\n",
    "print(3 and 0)\n",
    "print(0 and 0)\n",
    "print(3 or 5)\n",
    "print(0 or 3)\n",
    "print(3 or 0)\n",
    "print(0 or 0)"
   ]
  },
  {
   "cell_type": "markdown",
   "metadata": {},
   "source": [
    "## 복합연산자\n",
    "- a = a + 1 => a += 1\n",
    "- a = a - 1 => a -= 1\n",
    "- a = a // b => a //= b\n",
    "- a = a % b => a %= b"
   ]
  },
  {
   "cell_type": "markdown",
   "metadata": {},
   "source": [
    "## 기타연산자"
   ]
  },
  {
   "cell_type": "code",
   "execution_count": 126,
   "metadata": {},
   "outputs": [
    {
     "data": {
      "text/plain": [
       "'hi Eunsol'"
      ]
     },
     "execution_count": 126,
     "metadata": {},
     "output_type": "execute_result"
    }
   ],
   "source": [
    "\"hi\"+\" Eunsol\""
   ]
  },
  {
   "cell_type": "code",
   "execution_count": 127,
   "metadata": {},
   "outputs": [
    {
     "data": {
      "text/plain": [
       "True"
      ]
     },
     "execution_count": 127,
     "metadata": {},
     "output_type": "execute_result"
    }
   ],
   "source": [
    "# 해당 알파벳 있니\n",
    "'a' in \"apple\""
   ]
  },
  {
   "cell_type": "code",
   "execution_count": 129,
   "metadata": {},
   "outputs": [
    {
     "data": {
      "text/plain": [
       "False"
      ]
     },
     "execution_count": 129,
     "metadata": {},
     "output_type": "execute_result"
    }
   ],
   "source": [
    "# 리스트에 해당 데이터 있니\n",
    "4 in [1,2.3]"
   ]
  },
  {
   "cell_type": "code",
   "execution_count": 136,
   "metadata": {},
   "outputs": [
    {
     "name": "stdout",
     "output_type": "stream",
     "text": [
      "2802322765040\n",
      "2802322764592\n"
     ]
    },
    {
     "data": {
      "text/plain": [
       "False"
      ]
     },
     "execution_count": 136,
     "metadata": {},
     "output_type": "execute_result"
    }
   ],
   "source": [
    "a = 1000\n",
    "b = 1000\n",
    "#서로 다른 객체\n",
    "print(id(a))\n",
    "print(id(b))\n",
    "a is b "
   ]
  },
  {
   "cell_type": "code",
   "execution_count": null,
   "metadata": {},
   "outputs": [],
   "source": []
  },
  {
   "cell_type": "markdown",
   "metadata": {},
   "source": [
    "### 연산자 우선순위\n",
    "\n",
    "1. () 을 통한 그룹핑\n",
    "2. Slicing\n",
    "3. iNDEXING\n",
    "4. 제곱연산자 **\n",
    "5. 단항연산자 +- (양수 음수 부호)\n",
    "6. 산술연산자 *, /, %\n",
    "7. 산술연산자 +, -\n",
    "8. 비교연산자 in is\n",
    "9. not\n",
    "10. and\n",
    "11. or"
   ]
  },
  {
   "cell_type": "markdown",
   "metadata": {},
   "source": [
    "### 형변환\n",
    "#### 암시적 형 변환\n",
    "파이썬이 그냥 알아서 이거겠지 하고 바꿔주는 형 변환"
   ]
  },
  {
   "cell_type": "code",
   "execution_count": 138,
   "metadata": {},
   "outputs": [
    {
     "data": {
      "text/plain": [
       "4"
      ]
     },
     "execution_count": 138,
     "metadata": {},
     "output_type": "execute_result"
    }
   ],
   "source": [
    "#boolean은 형 변환시, 자동적으로 True를 1로 , False를 0으로 변환해준다\n",
    "True + 3"
   ]
  },
  {
   "cell_type": "code",
   "execution_count": 139,
   "metadata": {},
   "outputs": [],
   "source": [
    "int_num = 3\n",
    "float_num = 3.14\n",
    "complex_num = 3.5j"
   ]
  },
  {
   "cell_type": "code",
   "execution_count": 140,
   "metadata": {},
   "outputs": [
    {
     "name": "stdout",
     "output_type": "stream",
     "text": [
      "6.140000000000001\n",
      "<class 'float'>\n"
     ]
    }
   ],
   "source": [
    "print(int_num+float_num)\n",
    "print(type(int_num+float_num))"
   ]
  },
  {
   "cell_type": "code",
   "execution_count": 142,
   "metadata": {},
   "outputs": [
    {
     "name": "stdout",
     "output_type": "stream",
     "text": [
      "(3.14+3.5j)\n",
      "<class 'complex'>\n"
     ]
    }
   ],
   "source": [
    "print(float_num+complex_num)\n",
    "print(type(float_num+complex_num))"
   ]
  },
  {
   "cell_type": "markdown",
   "metadata": {},
   "source": [
    "#### 명시적 형 변환\n",
    "위에서 적은 암시적 형변환을 제외하고는 명시적으로 형 변환을 해줘야 한다.\n",
    "- string -> integer : 형식에 맞는 숫자만 가능\n",
    "- integer -> string : 모두 다 가능"
   ]
  },
  {
   "cell_type": "code",
   "execution_count": 143,
   "metadata": {},
   "outputs": [
    {
     "ename": "TypeError",
     "evalue": "unsupported operand type(s) for +: 'int' and 'str'",
     "output_type": "error",
     "traceback": [
      "\u001b[1;31m---------------------------------------------------------------------------\u001b[0m",
      "\u001b[1;31mTypeError\u001b[0m                                 Traceback (most recent call last)",
      "\u001b[1;32m<ipython-input-143-713d74b8b0cf>\u001b[0m in \u001b[0;36m<module>\u001b[1;34m\u001b[0m\n\u001b[1;32m----> 1\u001b[1;33m \u001b[1;36m1\u001b[0m\u001b[1;33m+\u001b[0m \u001b[1;34m\"등\"\u001b[0m\u001b[1;33m\u001b[0m\u001b[1;33m\u001b[0m\u001b[0m\n\u001b[0m",
      "\u001b[1;31mTypeError\u001b[0m: unsupported operand type(s) for +: 'int' and 'str'"
     ]
    }
   ],
   "source": [
    "1+ \"등\""
   ]
  },
  {
   "cell_type": "code",
   "execution_count": 144,
   "metadata": {},
   "outputs": [
    {
     "data": {
      "text/plain": [
       "'1등'"
      ]
     },
     "execution_count": 144,
     "metadata": {},
     "output_type": "execute_result"
    }
   ],
   "source": [
    "str(1)+\"등\""
   ]
  },
  {
   "cell_type": "code",
   "execution_count": 145,
   "metadata": {},
   "outputs": [
    {
     "ename": "ValueError",
     "evalue": "invalid literal for int() with base 10: '등'",
     "output_type": "error",
     "traceback": [
      "\u001b[1;31m---------------------------------------------------------------------------\u001b[0m",
      "\u001b[1;31mValueError\u001b[0m                                Traceback (most recent call last)",
      "\u001b[1;32m<ipython-input-145-f97e4185fbb0>\u001b[0m in \u001b[0;36m<module>\u001b[1;34m\u001b[0m\n\u001b[1;32m----> 1\u001b[1;33m \u001b[0mint\u001b[0m\u001b[1;33m(\u001b[0m\u001b[1;34m\"등\"\u001b[0m\u001b[1;33m)\u001b[0m\u001b[1;33m\u001b[0m\u001b[1;33m\u001b[0m\u001b[0m\n\u001b[0m",
      "\u001b[1;31mValueError\u001b[0m: invalid literal for int() with base 10: '등'"
     ]
    }
   ],
   "source": [
    "int(\"등\")"
   ]
  },
  {
   "cell_type": "code",
   "execution_count": 147,
   "metadata": {},
   "outputs": [
    {
     "data": {
      "text/plain": [
       "123"
      ]
     },
     "execution_count": 147,
     "metadata": {},
     "output_type": "execute_result"
    }
   ],
   "source": [
    "int(\"123\")"
   ]
  },
  {
   "cell_type": "markdown",
   "metadata": {},
   "source": [
    "# 시퀀스 자료형\n",
    "시퀀스는 데이터의 순서대로 나열된 형식을 나타낸다.\n",
    "그런데 주의 ! 순서대로 나열된 것이 정렬이 되었다는 건 아니다.\n",
    "파이썬에서 지원하는 시퀀스 타입\n",
    "- 리스트(list)\n",
    "- 튜플(tuple)\n",
    "- 레인지(range)\n",
    "- 문자열(String)\n",
    "- 바이너리(bynary)"
   ]
  },
  {
   "cell_type": "markdown",
   "metadata": {},
   "source": [
    "## list\n",
    "- 활용법\n",
    "    - [value1, value2, value3]\n",
    "    - 대괄호 []를 활용해 만들 수 있다.\n",
    "    - 값에 대한 접근은 list []를 이용."
   ]
  },
  {
   "cell_type": "code",
   "execution_count": 148,
   "metadata": {},
   "outputs": [
    {
     "name": "stdout",
     "output_type": "stream",
     "text": [
      "<class 'list'>\n"
     ]
    }
   ],
   "source": [
    "l = []\n",
    "print(type(l))"
   ]
  },
  {
   "cell_type": "code",
   "execution_count": 149,
   "metadata": {},
   "outputs": [
    {
     "name": "stdout",
     "output_type": "stream",
     "text": [
      "['서울', '대전', '광주', '구미']\n"
     ]
    }
   ],
   "source": [
    "lacation = [\"서울\",\"대전\",\"광주\",\"구미\"]\n",
    "print(lacation)"
   ]
  },
  {
   "cell_type": "code",
   "execution_count": 150,
   "metadata": {},
   "outputs": [
    {
     "data": {
      "text/plain": [
       "'광주'"
      ]
     },
     "execution_count": 150,
     "metadata": {},
     "output_type": "execute_result"
    }
   ],
   "source": [
    "lacation[2]"
   ]
  },
  {
   "cell_type": "markdown",
   "metadata": {},
   "source": [
    "## Tuple\n",
    "- 활용법\n",
    "    - (value1, value2, value3)\n",
    "    - 리스트와 유사하지만 ()로 묶어 표현\n",
    "    - 수정 불가능(immutable) => 읽기만 가능\n",
    "    - 실제로는 많이 사용하지 않지만 파이썬 내부에서 많이 사용"
   ]
  },
  {
   "cell_type": "code",
   "execution_count": 151,
   "metadata": {},
   "outputs": [
    {
     "name": "stdout",
     "output_type": "stream",
     "text": [
      "<class 'tuple'>\n"
     ]
    }
   ],
   "source": [
    "t = (1,2)\n",
    "print(type(t))"
   ]
  },
  {
   "cell_type": "code",
   "execution_count": 153,
   "metadata": {},
   "outputs": [
    {
     "name": "stdout",
     "output_type": "stream",
     "text": [
      "1\n",
      "2\n",
      "1\n",
      "2\n"
     ]
    }
   ],
   "source": [
    "# 파이썬 내부에서는 다음과 같이 사용\n",
    "a,b = 1,2\n",
    "print(a)\n",
    "print(b)\n",
    "\n",
    "#이 와 같다.\n",
    "a,b = (1,2)\n",
    "print(a)\n",
    "print(b)"
   ]
  },
  {
   "cell_type": "code",
   "execution_count": 154,
   "metadata": {},
   "outputs": [
    {
     "name": "stdout",
     "output_type": "stream",
     "text": [
      "2\n",
      "1\n"
     ]
    }
   ],
   "source": [
    "# swap의 경우에도 tuple이 활용된다.\n",
    "a,b = b,a\n",
    "print(a)\n",
    "print(b)"
   ]
  },
  {
   "cell_type": "markdown",
   "metadata": {},
   "source": [
    "## range\n",
    "레인지 숫자의 시퀀스를 나타내기 위해 사용된다.\n",
    "\n",
    "- 기본 :  range(2)\n",
    "    - 0부터 n-1까지의 값\n",
    "- 범위 지정 : range(a,n)\n",
    "    - a 부터 n-1까지의 값\n",
    "- 범위 및 스탭 지정 : range(a,b,c)\n",
    "    - a 부터 b-1까지 +c 만큼 증가\n"
   ]
  },
  {
   "cell_type": "code",
   "execution_count": 156,
   "metadata": {},
   "outputs": [
    {
     "name": "stdout",
     "output_type": "stream",
     "text": [
      "[0, 2, 4, 6, 8]\n"
     ]
    }
   ],
   "source": [
    "#0 부터 10까지 2씩 증가하기\n",
    "print(list(range(0,10,2)))"
   ]
  },
  {
   "cell_type": "markdown",
   "metadata": {},
   "source": [
    "- x in s\n",
    "- x not in s"
   ]
  },
  {
   "cell_type": "code",
   "execution_count": 159,
   "metadata": {},
   "outputs": [
    {
     "data": {
      "text/plain": [
       "True"
      ]
     },
     "execution_count": 159,
     "metadata": {},
     "output_type": "execute_result"
    }
   ],
   "source": [
    "s = [1,2.3]\n",
    "x = 7\n",
    "x in s\n",
    "x not in s"
   ]
  },
  {
   "cell_type": "markdown",
   "metadata": {},
   "source": [
    "- s1 + s2"
   ]
  },
  {
   "cell_type": "code",
   "execution_count": 161,
   "metadata": {},
   "outputs": [
    {
     "name": "stdout",
     "output_type": "stream",
     "text": [
      "[1, 2, 3, 4, 5, 6]\n",
      "[1, 2, 3, 1, 2, 3]\n"
     ]
    }
   ],
   "source": [
    "l = [1,2,3]\n",
    "s = [4,5,6]\n",
    "print(l+s)\n",
    "print(l*2)"
   ]
  },
  {
   "cell_type": "markdown",
   "metadata": {},
   "source": [
    "- 인덱싱 : s[i]\n",
    "- 슬라이싱 : s[i:j]\n",
    "- k간격으로 슬라이싱 : s[i:j:k]"
   ]
  },
  {
   "cell_type": "code",
   "execution_count": 162,
   "metadata": {},
   "outputs": [],
   "source": [
    "hello = \"오늘 하루가 끝나가네요\""
   ]
  },
  {
   "cell_type": "code",
   "execution_count": 163,
   "metadata": {},
   "outputs": [
    {
     "data": {
      "text/plain": [
       "'가'"
      ]
     },
     "execution_count": 163,
     "metadata": {},
     "output_type": "execute_result"
    }
   ],
   "source": [
    "hello[5]"
   ]
  },
  {
   "cell_type": "code",
   "execution_count": 164,
   "metadata": {},
   "outputs": [
    {
     "data": {
      "text/plain": [
       "'가 끝나'"
      ]
     },
     "execution_count": 164,
     "metadata": {},
     "output_type": "execute_result"
    }
   ],
   "source": [
    "hello[5:9]"
   ]
  },
  {
   "cell_type": "code",
   "execution_count": 166,
   "metadata": {},
   "outputs": [
    {
     "data": {
      "text/plain": [
       "'가끝'"
      ]
     },
     "execution_count": 166,
     "metadata": {},
     "output_type": "execute_result"
    }
   ],
   "source": [
    "hello[5:9:2]"
   ]
  },
  {
   "cell_type": "markdown",
   "metadata": {},
   "source": [
    "## Set, Dictionary\n",
    "- 둘 다 기본적으로 순서가 없다"
   ]
  },
  {
   "cell_type": "markdown",
   "metadata": {},
   "source": [
    "### Set\n",
    "- 수학에서 집합과 동일하게 처리\n",
    "- {}로 만들어진다.\n",
    "- 활용법\n",
    "    - {value1, value2, value3}"
   ]
  },
  {
   "cell_type": "code",
   "execution_count": 168,
   "metadata": {},
   "outputs": [
    {
     "name": "stdout",
     "output_type": "stream",
     "text": [
      "{1, 2}\n",
      "{1, 2, 3, 4, 5}\n",
      "{3}\n"
     ]
    }
   ],
   "source": [
    "set_a = {1,2,3}\n",
    "set_b = {3,4,5}\n",
    "print(set_a - set_b) #교집합\n",
    "print(set_a | set_b) #합집합\n",
    "print(set_a & set_b) #교집합"
   ]
  },
  {
   "cell_type": "markdown",
   "metadata": {},
   "source": [
    "### dictionary\n",
    "\n",
    "- 활용법\n",
    "    - {key1:value1, key2:value2,...}\n",
    "    - key value로 이루어진 자료구조\n",
    "    - key  는 ㅡimmuntable한 모든 것이 가능하다.(String, integer, float, boolean, tuple,range)\n",
    "    - value는 list, dictionary를 이 때 모든게 다 들어갈 수있다.\n",
    "    \n",
    "    "
   ]
  },
  {
   "cell_type": "code",
   "execution_count": 169,
   "metadata": {},
   "outputs": [
    {
     "ename": "SyntaxError",
     "evalue": "invalid syntax (<ipython-input-169-921b7e56138c>, line 2)",
     "output_type": "error",
     "traceback": [
      "\u001b[1;36m  File \u001b[1;32m\"<ipython-input-169-921b7e56138c>\"\u001b[1;36m, line \u001b[1;32m2\u001b[0m\n\u001b[1;33m    dic_b =\u001b[0m\n\u001b[1;37m            ^\u001b[0m\n\u001b[1;31mSyntaxError\u001b[0m\u001b[1;31m:\u001b[0m invalid syntax\n"
     ]
    }
   ],
   "source": [
    "dic_a = {}\n",
    "dic_b = \n",
    "dicb = {type(dict_a)}"
   ]
  },
  {
   "cell_type": "code",
   "execution_count": 172,
   "metadata": {},
   "outputs": [
    {
     "ename": "SyntaxError",
     "evalue": "invalid token (<ipython-input-172-7a47c61c1099>, line 1)",
     "output_type": "error",
     "traceback": [
      "\u001b[1;36m  File \u001b[1;32m\"<ipython-input-172-7a47c61c1099>\"\u001b[1;36m, line \u001b[1;32m1\u001b[0m\n\u001b[1;33m    phone_book = {\"서울:\"02\",\"광주\",\"062\"}\u001b[0m\n\u001b[1;37m                        ^\u001b[0m\n\u001b[1;31mSyntaxError\u001b[0m\u001b[1;31m:\u001b[0m invalid token\n"
     ]
    }
   ],
   "source": [
    "phone_book = {\"서울:\"02\",\"광주\",\"062\"}"
   ]
  },
  {
   "cell_type": "code",
   "execution_count": 173,
   "metadata": {},
   "outputs": [
    {
     "ename": "SyntaxError",
     "evalue": "invalid syntax (<ipython-input-173-62e2781518d6>, line 3)",
     "output_type": "error",
     "traceback": [
      "\u001b[1;36m  File \u001b[1;32m\"<ipython-input-173-62e2781518d6>\"\u001b[1;36m, line \u001b[1;32m3\u001b[0m\n\u001b[1;33m    print(1:5,:22)\u001b[0m\n\u001b[1;37m           ^\u001b[0m\n\u001b[1;31mSyntaxError\u001b[0m\u001b[1;31m:\u001b[0m invalid syntax\n"
     ]
    }
   ],
   "source": [
    "# 중복된 key를 가질 수 없다.\n",
    "dic_test = {1:1, 1:5, 2:2}\n",
    "print(1:5,:22)"
   ]
  },
  {
   "cell_type": "code",
   "execution_count": 174,
   "metadata": {},
   "outputs": [
    {
     "ename": "SyntaxError",
     "evalue": "invalid syntax (<ipython-input-174-34626daec262>, line 1)",
     "output_type": "error",
     "traceback": [
      "\u001b[1;36m  File \u001b[1;32m\"<ipython-input-174-34626daec262>\"\u001b[1;36m, line \u001b[1;32m1\u001b[0m\n\u001b[1;33m    dic test values()\u001b[0m\n\u001b[1;37m           ^\u001b[0m\n\u001b[1;31mSyntaxError\u001b[0m\u001b[1;31m:\u001b[0m invalid syntax\n"
     ]
    }
   ],
   "source": [
    "dic test values()"
   ]
  },
  {
   "cell_type": "code",
   "execution_count": null,
   "metadata": {},
   "outputs": [],
   "source": [
    "\n",
    "dic_"
   ]
  }
 ],
 "metadata": {
  "kernelspec": {
   "display_name": "Python 3",
   "language": "python",
   "name": "python3"
  },
  "language_info": {
   "codemirror_mode": {
    "name": "ipython",
    "version": 3
   },
   "file_extension": ".py",
   "mimetype": "text/x-python",
   "name": "python",
   "nbconvert_exporter": "python",
   "pygments_lexer": "ipython3",
   "version": "3.6.7"
  }
 },
 "nbformat": 4,
 "nbformat_minor": 2
}
